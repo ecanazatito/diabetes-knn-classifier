{
 "cells": [
  {
   "cell_type": "code",
   "execution_count": 1,
   "id": "e89d86a5-b753-440e-8a07-a841f782fd0c",
   "metadata": {
    "tags": []
   },
   "outputs": [],
   "source": [
    "import collections\n",
    "import operator\n",
    "import numpy\n",
    "from itertools import groupby\n",
    "\n",
    "TreeNode = collections.namedtuple(\"TreeNode\", [\"value\", \"label\", \"left\", \"right\"])\n",
    "\n",
    "def kdtree(points, labels):\n",
    "    k = len(points[0])\n",
    "    \n",
    "    def build(*, points, labels, depth):\n",
    "        if len(points) == 0:\n",
    "            return None\n",
    "        \n",
    "        o_points = sorted(enumerate(points), key=operator.itemgetter(1, depth % k))\n",
    "        indexes = [i[0] for i in o_points]\n",
    "        points = [i[1] for i in o_points]\n",
    "        labels = [labels[i] for i in indexes]\n",
    "\n",
    "        middle = len(points) // 2\n",
    "\n",
    "        return TreeNode(\n",
    "            value = points[middle], \n",
    "            label = labels[middle],\n",
    "            left = build(\n",
    "                points = points[:middle],\n",
    "                labels = labels[:middle],\n",
    "                depth = depth+1,\n",
    "            ),\n",
    "            right = build(\n",
    "                points = points[middle+1:],\n",
    "                labels = labels[middle+1:],\n",
    "                depth = depth+1,\n",
    "            )\n",
    "        )\n",
    "    \n",
    "    return build(points=list(points), labels=list(labels), depth=0)"
   ]
  },
  {
   "cell_type": "code",
   "execution_count": 2,
   "id": "8a30a0f5-a9d2-4448-9315-84ce84f5cffc",
   "metadata": {
    "tags": []
   },
   "outputs": [],
   "source": [
    "def calc_distance(X, Y):\n",
    "    return sum((i-j)**2 for i, j in zip(X, Y))"
   ]
  },
  {
   "cell_type": "code",
   "execution_count": 6,
   "id": "2f40c1a6-0d55-4a94-a4c9-300365f702d2",
   "metadata": {
    "tags": []
   },
   "outputs": [],
   "source": [
    "Neighbor = collections.namedtuple(\"Neighbor\", [\"point\", \"label\", \"distance\"])\n",
    "\n",
    "def find_k_neighbors(*, tree, point, k):\n",
    "    n_dim = len(point)\n",
    "    knn = []\n",
    "    best = None\n",
    "    \n",
    "    def search(*, tree, depth):\n",
    "        nonlocal best\n",
    "        \n",
    "        if tree is None:\n",
    "            return \n",
    "        \n",
    "        distance = calc_distance(tree.value, point)\n",
    "        \n",
    "        if best is None or distance < best.distance:\n",
    "            node = Neighbor(point=tree.value, label=tree.label, distance=distance)\n",
    "            if (node not in knn):\n",
    "                best = node\n",
    "        \n",
    "        axis = depth % n_dim\n",
    "        diff = point[axis] - tree.value[axis]\n",
    "        \n",
    "        if diff <= 0:\n",
    "            close, away = tree.left, tree.right\n",
    "        else:\n",
    "            close, away = tree.right, tree.left\n",
    "            \n",
    "        search(tree=close, depth=depth+1)\n",
    "        \n",
    "        if diff**2 < best.distance:\n",
    "            search(tree=away, depth=depth+1)\n",
    "            \n",
    "    for i in range(0,k):\n",
    "        search(tree=tree, depth=0)\n",
    "        knn.append(best)\n",
    "        best = None\n",
    "        \n",
    "    return knn"
   ]
  },
  {
   "cell_type": "code",
   "execution_count": 9,
   "id": "d7bd37ff-1b82-4743-8fee-6f5c961f520f",
   "metadata": {
    "tags": []
   },
   "outputs": [],
   "source": [
    "class CustomClassifier:\n",
    "    def __init__(self, k):\n",
    "        self.k = k\n",
    "    \n",
    "    def fit(self, X_train, y_train):\n",
    "        X_train = list(X_train.itertuples(index=False, name=None))\n",
    "        y_train = list(y_train)\n",
    "        self.tree = kdtree(X_train, y_train)\n",
    "    \n",
    "    def predict(self, X_test):\n",
    "        X_test = list(X_test.itertuples(index=False, name=None))\n",
    "        y_pred = []\n",
    "        for point in X_test:\n",
    "            knn = find_k_neighbors(tree=self.tree, point=point, k=self.k)\n",
    "            knn_labeled = sorted(knn, key=operator.itemgetter(1))\n",
    "            class_groups = [(key, len(list(group))) for key, group in groupby(knn_labeled, operator.attrgetter('label'))]\n",
    "            y_pred.append(max(class_groups, key=lambda x: x[1])[0])\n",
    "        return y_pred\n",
    "    \n",
    "    def score(self, X_test, y_test):\n",
    "        y_test = list(y_test)\n",
    "        y_pred = self.predict(X_test)\n",
    "        correct_count = sum(a == b for a, b in zip(y_pred, y_test))\n",
    "        return correct_count / len(X_test)"
   ]
  }
 ],
 "metadata": {
  "kernelspec": {
   "display_name": "Python 3 (ipykernel)",
   "language": "python",
   "name": "python3"
  },
  "language_info": {
   "codemirror_mode": {
    "name": "ipython",
    "version": 3
   },
   "file_extension": ".py",
   "mimetype": "text/x-python",
   "name": "python",
   "nbconvert_exporter": "python",
   "pygments_lexer": "ipython3",
   "version": "3.11.3"
  }
 },
 "nbformat": 4,
 "nbformat_minor": 5
}
